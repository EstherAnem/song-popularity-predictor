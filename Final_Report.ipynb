{
 "cells": [
  {
   "cell_type": "markdown",
   "metadata": {
    "colab_type": "text",
    "id": "qkSHutyeZjYQ"
   },
   "source": [
    "<center><h1> Imports </h1></center>\n",
    "\n",
    "In this section, we import all neccesary modules that will be used in the report"
   ]
  },
  {
   "cell_type": "code",
   "execution_count": 4,
   "metadata": {
    "colab": {},
    "colab_type": "code",
    "id": "x7QsaQwOZjYU"
   },
   "outputs": [],
   "source": [
    "import pandas as pd\n",
    "from sklearn.model_selection import train_test_split\n",
    "from sklearn.linear_model import LinearRegression\n",
    "from sklearn.linear_model import Ridge\n",
    "from sklearn.linear_model import Lasso\n",
    "from sklearn.neighbors import KNeighborsRegressor\n",
    "from sklearn.svm import LinearSVR\n",
    "from sklearn.metrics import r2_score\n",
    "from sklearn.preprocessing import MinMaxScaler\n",
    "from sklearn.feature_selection import RFE\n",
    "from sklearn.tree import DecisionTreeRegressor\n",
    "from sklearn.model_selection import GridSearchCV"
   ]
  },
  {
   "cell_type": "markdown",
   "metadata": {
    "colab_type": "text",
    "id": "RYyi8goIZjYe"
   },
   "source": [
    "<center><h1> Dataframe Creation </h1></center>\n",
    "\n",
    "In this section, we create the dataframe, and any other neccesary global variables that will be used in the report"
   ]
  },
  {
   "cell_type": "code",
   "execution_count": 5,
   "metadata": {
    "colab": {},
    "colab_type": "code",
    "id": "OD49nS1UZjYf"
   },
   "outputs": [],
   "source": [
    "def import_samples():\n",
    "    samples = pd.read_csv(\"combined_samples.csv\").drop(\"Unnamed: 0\", axis = 1)\n",
    "    return samples"
   ]
  },
  {
   "cell_type": "code",
   "execution_count": 6,
   "metadata": {
    "colab": {},
    "colab_type": "code",
    "id": "GF_9rEr0ZjYn",
    "outputId": "2b602a06-55fa-4972-e673-ec71360b3498"
   },
   "outputs": [
    {
     "data": {
      "text/html": [
       "<div>\n",
       "<style scoped>\n",
       "    .dataframe tbody tr th:only-of-type {\n",
       "        vertical-align: middle;\n",
       "    }\n",
       "\n",
       "    .dataframe tbody tr th {\n",
       "        vertical-align: top;\n",
       "    }\n",
       "\n",
       "    .dataframe thead th {\n",
       "        text-align: right;\n",
       "    }\n",
       "</style>\n",
       "<table border=\"1\" class=\"dataframe\">\n",
       "  <thead>\n",
       "    <tr style=\"text-align: right;\">\n",
       "      <th></th>\n",
       "      <th>Name</th>\n",
       "      <th>Artist</th>\n",
       "      <th>Acousticness</th>\n",
       "      <th>Danceability</th>\n",
       "      <th>Speechiness</th>\n",
       "      <th>Energy</th>\n",
       "      <th>Liveness</th>\n",
       "      <th>Valence</th>\n",
       "      <th>Key</th>\n",
       "      <th>Mode</th>\n",
       "      <th>Tempo</th>\n",
       "      <th>Duration</th>\n",
       "      <th>Popularity</th>\n",
       "    </tr>\n",
       "  </thead>\n",
       "  <tbody>\n",
       "    <tr>\n",
       "      <td>0</td>\n",
       "      <td>All I Want for Christmas Is You</td>\n",
       "      <td>Mariah Carey</td>\n",
       "      <td>0.1640</td>\n",
       "      <td>0.335</td>\n",
       "      <td>0.0386</td>\n",
       "      <td>0.6250</td>\n",
       "      <td>0.0708</td>\n",
       "      <td>0.3460</td>\n",
       "      <td>7.0</td>\n",
       "      <td>1.0</td>\n",
       "      <td>150.277</td>\n",
       "      <td>241107.0</td>\n",
       "      <td>70.0</td>\n",
       "    </tr>\n",
       "    <tr>\n",
       "      <td>1</td>\n",
       "      <td>Jingle Bell Rock</td>\n",
       "      <td>Bobby Helms</td>\n",
       "      <td>0.6430</td>\n",
       "      <td>0.754</td>\n",
       "      <td>0.0363</td>\n",
       "      <td>0.4240</td>\n",
       "      <td>0.0652</td>\n",
       "      <td>0.8060</td>\n",
       "      <td>2.0</td>\n",
       "      <td>1.0</td>\n",
       "      <td>119.705</td>\n",
       "      <td>130973.0</td>\n",
       "      <td>61.0</td>\n",
       "    </tr>\n",
       "    <tr>\n",
       "      <td>2</td>\n",
       "      <td>Rockin' Around The Christmas Tree</td>\n",
       "      <td>Brenda Lee</td>\n",
       "      <td>0.6140</td>\n",
       "      <td>0.589</td>\n",
       "      <td>0.0502</td>\n",
       "      <td>0.4720</td>\n",
       "      <td>0.5050</td>\n",
       "      <td>0.8980</td>\n",
       "      <td>8.0</td>\n",
       "      <td>1.0</td>\n",
       "      <td>67.196</td>\n",
       "      <td>126267.0</td>\n",
       "      <td>62.0</td>\n",
       "    </tr>\n",
       "    <tr>\n",
       "      <td>3</td>\n",
       "      <td>A Holly Jolly Christmas - Single Version</td>\n",
       "      <td>Burl Ives</td>\n",
       "      <td>0.5790</td>\n",
       "      <td>0.683</td>\n",
       "      <td>0.0303</td>\n",
       "      <td>0.3750</td>\n",
       "      <td>0.0760</td>\n",
       "      <td>0.8880</td>\n",
       "      <td>0.0</td>\n",
       "      <td>1.0</td>\n",
       "      <td>140.467</td>\n",
       "      <td>135533.0</td>\n",
       "      <td>52.0</td>\n",
       "    </tr>\n",
       "    <tr>\n",
       "      <td>4</td>\n",
       "      <td>The Christmas Song (Merry Christmas To You)</td>\n",
       "      <td>Nat King Cole</td>\n",
       "      <td>0.9200</td>\n",
       "      <td>0.319</td>\n",
       "      <td>0.0341</td>\n",
       "      <td>0.2100</td>\n",
       "      <td>0.1380</td>\n",
       "      <td>0.2090</td>\n",
       "      <td>1.0</td>\n",
       "      <td>1.0</td>\n",
       "      <td>78.696</td>\n",
       "      <td>192160.0</td>\n",
       "      <td>58.0</td>\n",
       "    </tr>\n",
       "    <tr>\n",
       "      <td>...</td>\n",
       "      <td>...</td>\n",
       "      <td>...</td>\n",
       "      <td>...</td>\n",
       "      <td>...</td>\n",
       "      <td>...</td>\n",
       "      <td>...</td>\n",
       "      <td>...</td>\n",
       "      <td>...</td>\n",
       "      <td>...</td>\n",
       "      <td>...</td>\n",
       "      <td>...</td>\n",
       "      <td>...</td>\n",
       "      <td>...</td>\n",
       "    </tr>\n",
       "    <tr>\n",
       "      <td>1995</td>\n",
       "      <td>The Spelling Rules / My Favorite Moment of the...</td>\n",
       "      <td>25th Annual Putnam County Spelling Bee Origina...</td>\n",
       "      <td>0.8020</td>\n",
       "      <td>0.527</td>\n",
       "      <td>0.1550</td>\n",
       "      <td>0.2890</td>\n",
       "      <td>0.1060</td>\n",
       "      <td>0.4870</td>\n",
       "      <td>2.0</td>\n",
       "      <td>1.0</td>\n",
       "      <td>169.072</td>\n",
       "      <td>101947.0</td>\n",
       "      <td>28.0</td>\n",
       "    </tr>\n",
       "    <tr>\n",
       "      <td>1996</td>\n",
       "      <td>No Sé Vivir Sin Ti</td>\n",
       "      <td>Conjunto Primavera</td>\n",
       "      <td>0.0698</td>\n",
       "      <td>0.467</td>\n",
       "      <td>0.0305</td>\n",
       "      <td>0.5370</td>\n",
       "      <td>0.1450</td>\n",
       "      <td>0.5560</td>\n",
       "      <td>10.0</td>\n",
       "      <td>1.0</td>\n",
       "      <td>146.465</td>\n",
       "      <td>213253.0</td>\n",
       "      <td>20.0</td>\n",
       "    </tr>\n",
       "    <tr>\n",
       "      <td>1997</td>\n",
       "      <td>Divertimento No. 11 in D Major, K. 251: III. A...</td>\n",
       "      <td>Wolfgang Amadeus Mozart</td>\n",
       "      <td>0.9200</td>\n",
       "      <td>0.279</td>\n",
       "      <td>0.0421</td>\n",
       "      <td>0.0727</td>\n",
       "      <td>0.1880</td>\n",
       "      <td>0.2030</td>\n",
       "      <td>9.0</td>\n",
       "      <td>1.0</td>\n",
       "      <td>130.693</td>\n",
       "      <td>224760.0</td>\n",
       "      <td>26.0</td>\n",
       "    </tr>\n",
       "    <tr>\n",
       "      <td>1998</td>\n",
       "      <td>Etude Op. 25 : No. 12 in C Minor</td>\n",
       "      <td>Frédéric Chopin</td>\n",
       "      <td>0.9860</td>\n",
       "      <td>0.183</td>\n",
       "      <td>0.0333</td>\n",
       "      <td>0.1730</td>\n",
       "      <td>0.1120</td>\n",
       "      <td>0.0736</td>\n",
       "      <td>5.0</td>\n",
       "      <td>0.0</td>\n",
       "      <td>75.121</td>\n",
       "      <td>166253.0</td>\n",
       "      <td>13.0</td>\n",
       "    </tr>\n",
       "    <tr>\n",
       "      <td>1999</td>\n",
       "      <td>Dulce Ivonne - En Vivo</td>\n",
       "      <td>Liran' Roll</td>\n",
       "      <td>0.1480</td>\n",
       "      <td>0.398</td>\n",
       "      <td>0.0665</td>\n",
       "      <td>0.9380</td>\n",
       "      <td>0.8800</td>\n",
       "      <td>0.5890</td>\n",
       "      <td>2.0</td>\n",
       "      <td>1.0</td>\n",
       "      <td>75.667</td>\n",
       "      <td>278813.0</td>\n",
       "      <td>29.0</td>\n",
       "    </tr>\n",
       "  </tbody>\n",
       "</table>\n",
       "<p>2000 rows × 13 columns</p>\n",
       "</div>"
      ],
      "text/plain": [
       "                                                   Name  \\\n",
       "0                       All I Want for Christmas Is You   \n",
       "1                                      Jingle Bell Rock   \n",
       "2                     Rockin' Around The Christmas Tree   \n",
       "3              A Holly Jolly Christmas - Single Version   \n",
       "4           The Christmas Song (Merry Christmas To You)   \n",
       "...                                                 ...   \n",
       "1995  The Spelling Rules / My Favorite Moment of the...   \n",
       "1996                                 No Sé Vivir Sin Ti   \n",
       "1997  Divertimento No. 11 in D Major, K. 251: III. A...   \n",
       "1998                   Etude Op. 25 : No. 12 in C Minor   \n",
       "1999                             Dulce Ivonne - En Vivo   \n",
       "\n",
       "                                                 Artist  Acousticness  \\\n",
       "0                                          Mariah Carey        0.1640   \n",
       "1                                           Bobby Helms        0.6430   \n",
       "2                                            Brenda Lee        0.6140   \n",
       "3                                             Burl Ives        0.5790   \n",
       "4                                         Nat King Cole        0.9200   \n",
       "...                                                 ...           ...   \n",
       "1995  25th Annual Putnam County Spelling Bee Origina...        0.8020   \n",
       "1996                                 Conjunto Primavera        0.0698   \n",
       "1997                            Wolfgang Amadeus Mozart        0.9200   \n",
       "1998                                    Frédéric Chopin        0.9860   \n",
       "1999                                        Liran' Roll        0.1480   \n",
       "\n",
       "      Danceability  Speechiness  Energy  Liveness  Valence   Key  Mode  \\\n",
       "0            0.335       0.0386  0.6250    0.0708   0.3460   7.0   1.0   \n",
       "1            0.754       0.0363  0.4240    0.0652   0.8060   2.0   1.0   \n",
       "2            0.589       0.0502  0.4720    0.5050   0.8980   8.0   1.0   \n",
       "3            0.683       0.0303  0.3750    0.0760   0.8880   0.0   1.0   \n",
       "4            0.319       0.0341  0.2100    0.1380   0.2090   1.0   1.0   \n",
       "...            ...          ...     ...       ...      ...   ...   ...   \n",
       "1995         0.527       0.1550  0.2890    0.1060   0.4870   2.0   1.0   \n",
       "1996         0.467       0.0305  0.5370    0.1450   0.5560  10.0   1.0   \n",
       "1997         0.279       0.0421  0.0727    0.1880   0.2030   9.0   1.0   \n",
       "1998         0.183       0.0333  0.1730    0.1120   0.0736   5.0   0.0   \n",
       "1999         0.398       0.0665  0.9380    0.8800   0.5890   2.0   1.0   \n",
       "\n",
       "        Tempo  Duration  Popularity  \n",
       "0     150.277  241107.0        70.0  \n",
       "1     119.705  130973.0        61.0  \n",
       "2      67.196  126267.0        62.0  \n",
       "3     140.467  135533.0        52.0  \n",
       "4      78.696  192160.0        58.0  \n",
       "...       ...       ...         ...  \n",
       "1995  169.072  101947.0        28.0  \n",
       "1996  146.465  213253.0        20.0  \n",
       "1997  130.693  224760.0        26.0  \n",
       "1998   75.121  166253.0        13.0  \n",
       "1999   75.667  278813.0        29.0  \n",
       "\n",
       "[2000 rows x 13 columns]"
      ]
     },
     "execution_count": 6,
     "metadata": {},
     "output_type": "execute_result"
    }
   ],
   "source": [
    "samples = import_samples()\n",
    "samples"
   ]
  },
  {
   "cell_type": "markdown",
   "metadata": {
    "colab_type": "text",
    "id": "HL0PDpkVZjY0"
   },
   "source": [
    "<center><h2> Creating Features and Target </h2></center>"
   ]
  },
  {
   "cell_type": "code",
   "execution_count": 7,
   "metadata": {
    "colab": {},
    "colab_type": "code",
    "id": "vZl-alEPZjY1"
   },
   "outputs": [],
   "source": [
    "def features_and_target(df):\n",
    "    return (df.drop(columns = [\"Name\", \"Artist\", \"Popularity\"]), df[\"Popularity\"])"
   ]
  },
  {
   "cell_type": "code",
   "execution_count": 8,
   "metadata": {
    "colab": {},
    "colab_type": "code",
    "id": "NnNNHUKEZjY7"
   },
   "outputs": [],
   "source": [
    "features, target = features_and_target(samples)"
   ]
  },
  {
   "cell_type": "code",
   "execution_count": 9,
   "metadata": {
    "colab": {},
    "colab_type": "code",
    "id": "mECoZdBBZjZC",
    "outputId": "5d9e7777-9f09-4f86-f58f-edb8122f8fdb"
   },
   "outputs": [
    {
     "data": {
      "text/html": [
       "<div>\n",
       "<style scoped>\n",
       "    .dataframe tbody tr th:only-of-type {\n",
       "        vertical-align: middle;\n",
       "    }\n",
       "\n",
       "    .dataframe tbody tr th {\n",
       "        vertical-align: top;\n",
       "    }\n",
       "\n",
       "    .dataframe thead th {\n",
       "        text-align: right;\n",
       "    }\n",
       "</style>\n",
       "<table border=\"1\" class=\"dataframe\">\n",
       "  <thead>\n",
       "    <tr style=\"text-align: right;\">\n",
       "      <th></th>\n",
       "      <th>Acousticness</th>\n",
       "      <th>Danceability</th>\n",
       "      <th>Speechiness</th>\n",
       "      <th>Energy</th>\n",
       "      <th>Liveness</th>\n",
       "      <th>Valence</th>\n",
       "      <th>Key</th>\n",
       "      <th>Mode</th>\n",
       "      <th>Tempo</th>\n",
       "      <th>Duration</th>\n",
       "    </tr>\n",
       "  </thead>\n",
       "  <tbody>\n",
       "    <tr>\n",
       "      <td>0</td>\n",
       "      <td>0.1640</td>\n",
       "      <td>0.335</td>\n",
       "      <td>0.0386</td>\n",
       "      <td>0.6250</td>\n",
       "      <td>0.0708</td>\n",
       "      <td>0.3460</td>\n",
       "      <td>7.0</td>\n",
       "      <td>1.0</td>\n",
       "      <td>150.277</td>\n",
       "      <td>241107.0</td>\n",
       "    </tr>\n",
       "    <tr>\n",
       "      <td>1</td>\n",
       "      <td>0.6430</td>\n",
       "      <td>0.754</td>\n",
       "      <td>0.0363</td>\n",
       "      <td>0.4240</td>\n",
       "      <td>0.0652</td>\n",
       "      <td>0.8060</td>\n",
       "      <td>2.0</td>\n",
       "      <td>1.0</td>\n",
       "      <td>119.705</td>\n",
       "      <td>130973.0</td>\n",
       "    </tr>\n",
       "    <tr>\n",
       "      <td>2</td>\n",
       "      <td>0.6140</td>\n",
       "      <td>0.589</td>\n",
       "      <td>0.0502</td>\n",
       "      <td>0.4720</td>\n",
       "      <td>0.5050</td>\n",
       "      <td>0.8980</td>\n",
       "      <td>8.0</td>\n",
       "      <td>1.0</td>\n",
       "      <td>67.196</td>\n",
       "      <td>126267.0</td>\n",
       "    </tr>\n",
       "    <tr>\n",
       "      <td>3</td>\n",
       "      <td>0.5790</td>\n",
       "      <td>0.683</td>\n",
       "      <td>0.0303</td>\n",
       "      <td>0.3750</td>\n",
       "      <td>0.0760</td>\n",
       "      <td>0.8880</td>\n",
       "      <td>0.0</td>\n",
       "      <td>1.0</td>\n",
       "      <td>140.467</td>\n",
       "      <td>135533.0</td>\n",
       "    </tr>\n",
       "    <tr>\n",
       "      <td>4</td>\n",
       "      <td>0.9200</td>\n",
       "      <td>0.319</td>\n",
       "      <td>0.0341</td>\n",
       "      <td>0.2100</td>\n",
       "      <td>0.1380</td>\n",
       "      <td>0.2090</td>\n",
       "      <td>1.0</td>\n",
       "      <td>1.0</td>\n",
       "      <td>78.696</td>\n",
       "      <td>192160.0</td>\n",
       "    </tr>\n",
       "    <tr>\n",
       "      <td>...</td>\n",
       "      <td>...</td>\n",
       "      <td>...</td>\n",
       "      <td>...</td>\n",
       "      <td>...</td>\n",
       "      <td>...</td>\n",
       "      <td>...</td>\n",
       "      <td>...</td>\n",
       "      <td>...</td>\n",
       "      <td>...</td>\n",
       "      <td>...</td>\n",
       "    </tr>\n",
       "    <tr>\n",
       "      <td>1995</td>\n",
       "      <td>0.8020</td>\n",
       "      <td>0.527</td>\n",
       "      <td>0.1550</td>\n",
       "      <td>0.2890</td>\n",
       "      <td>0.1060</td>\n",
       "      <td>0.4870</td>\n",
       "      <td>2.0</td>\n",
       "      <td>1.0</td>\n",
       "      <td>169.072</td>\n",
       "      <td>101947.0</td>\n",
       "    </tr>\n",
       "    <tr>\n",
       "      <td>1996</td>\n",
       "      <td>0.0698</td>\n",
       "      <td>0.467</td>\n",
       "      <td>0.0305</td>\n",
       "      <td>0.5370</td>\n",
       "      <td>0.1450</td>\n",
       "      <td>0.5560</td>\n",
       "      <td>10.0</td>\n",
       "      <td>1.0</td>\n",
       "      <td>146.465</td>\n",
       "      <td>213253.0</td>\n",
       "    </tr>\n",
       "    <tr>\n",
       "      <td>1997</td>\n",
       "      <td>0.9200</td>\n",
       "      <td>0.279</td>\n",
       "      <td>0.0421</td>\n",
       "      <td>0.0727</td>\n",
       "      <td>0.1880</td>\n",
       "      <td>0.2030</td>\n",
       "      <td>9.0</td>\n",
       "      <td>1.0</td>\n",
       "      <td>130.693</td>\n",
       "      <td>224760.0</td>\n",
       "    </tr>\n",
       "    <tr>\n",
       "      <td>1998</td>\n",
       "      <td>0.9860</td>\n",
       "      <td>0.183</td>\n",
       "      <td>0.0333</td>\n",
       "      <td>0.1730</td>\n",
       "      <td>0.1120</td>\n",
       "      <td>0.0736</td>\n",
       "      <td>5.0</td>\n",
       "      <td>0.0</td>\n",
       "      <td>75.121</td>\n",
       "      <td>166253.0</td>\n",
       "    </tr>\n",
       "    <tr>\n",
       "      <td>1999</td>\n",
       "      <td>0.1480</td>\n",
       "      <td>0.398</td>\n",
       "      <td>0.0665</td>\n",
       "      <td>0.9380</td>\n",
       "      <td>0.8800</td>\n",
       "      <td>0.5890</td>\n",
       "      <td>2.0</td>\n",
       "      <td>1.0</td>\n",
       "      <td>75.667</td>\n",
       "      <td>278813.0</td>\n",
       "    </tr>\n",
       "  </tbody>\n",
       "</table>\n",
       "<p>2000 rows × 10 columns</p>\n",
       "</div>"
      ],
      "text/plain": [
       "      Acousticness  Danceability  Speechiness  Energy  Liveness  Valence  \\\n",
       "0           0.1640         0.335       0.0386  0.6250    0.0708   0.3460   \n",
       "1           0.6430         0.754       0.0363  0.4240    0.0652   0.8060   \n",
       "2           0.6140         0.589       0.0502  0.4720    0.5050   0.8980   \n",
       "3           0.5790         0.683       0.0303  0.3750    0.0760   0.8880   \n",
       "4           0.9200         0.319       0.0341  0.2100    0.1380   0.2090   \n",
       "...            ...           ...          ...     ...       ...      ...   \n",
       "1995        0.8020         0.527       0.1550  0.2890    0.1060   0.4870   \n",
       "1996        0.0698         0.467       0.0305  0.5370    0.1450   0.5560   \n",
       "1997        0.9200         0.279       0.0421  0.0727    0.1880   0.2030   \n",
       "1998        0.9860         0.183       0.0333  0.1730    0.1120   0.0736   \n",
       "1999        0.1480         0.398       0.0665  0.9380    0.8800   0.5890   \n",
       "\n",
       "       Key  Mode    Tempo  Duration  \n",
       "0      7.0   1.0  150.277  241107.0  \n",
       "1      2.0   1.0  119.705  130973.0  \n",
       "2      8.0   1.0   67.196  126267.0  \n",
       "3      0.0   1.0  140.467  135533.0  \n",
       "4      1.0   1.0   78.696  192160.0  \n",
       "...    ...   ...      ...       ...  \n",
       "1995   2.0   1.0  169.072  101947.0  \n",
       "1996  10.0   1.0  146.465  213253.0  \n",
       "1997   9.0   1.0  130.693  224760.0  \n",
       "1998   5.0   0.0   75.121  166253.0  \n",
       "1999   2.0   1.0   75.667  278813.0  \n",
       "\n",
       "[2000 rows x 10 columns]"
      ]
     },
     "execution_count": 9,
     "metadata": {},
     "output_type": "execute_result"
    }
   ],
   "source": [
    "features"
   ]
  },
  {
   "cell_type": "code",
   "execution_count": 10,
   "metadata": {
    "colab": {},
    "colab_type": "code",
    "id": "_yGAIV2pZjZJ",
    "outputId": "bdec6258-c5ec-4179-f9da-b237b24560c9"
   },
   "outputs": [
    {
     "data": {
      "text/plain": [
       "0       70.0\n",
       "1       61.0\n",
       "2       62.0\n",
       "3       52.0\n",
       "4       58.0\n",
       "        ... \n",
       "1995    28.0\n",
       "1996    20.0\n",
       "1997    26.0\n",
       "1998    13.0\n",
       "1999    29.0\n",
       "Name: Popularity, Length: 2000, dtype: float64"
      ]
     },
     "execution_count": 10,
     "metadata": {},
     "output_type": "execute_result"
    }
   ],
   "source": [
    "target"
   ]
  },
  {
   "cell_type": "markdown",
   "metadata": {
    "colab_type": "text",
    "id": "RfGBcYD-ZjZQ"
   },
   "source": [
    "<center><h2> Splitting the Training and Testing Sets </h2></center>"
   ]
  },
  {
   "cell_type": "code",
   "execution_count": 11,
   "metadata": {
    "colab": {},
    "colab_type": "code",
    "id": "KaLOud2OZjZS"
   },
   "outputs": [],
   "source": [
    "def split_the_dataset():\n",
    "    return train_test_split(features, target, random_state = 3000)"
   ]
  },
  {
   "cell_type": "code",
   "execution_count": 12,
   "metadata": {
    "colab": {},
    "colab_type": "code",
    "id": "WnfP-wrZZjZY"
   },
   "outputs": [],
   "source": [
    "X_train, X_test, y_train, y_test = split_the_dataset()"
   ]
  },
  {
   "cell_type": "markdown",
   "metadata": {
    "colab_type": "text",
    "id": "h_193_3HZjZd"
   },
   "source": [
    "<center><h2> Creating Estimator Dictionary </h2></center>"
   ]
  },
  {
   "cell_type": "code",
   "execution_count": 13,
   "metadata": {
    "colab": {},
    "colab_type": "code",
    "id": "aS_pERwCZjZg"
   },
   "outputs": [],
   "source": [
    "estimators = {\"Linear Regression\" : LinearRegression(),\n",
    "              \"Ridge\" : Ridge(alpha = 1.0),\n",
    "              \"Lasso\" : Lasso(alpha = 1.0),\n",
    "              \"k-Nearest Neighbor\" : KNeighborsRegressor(n_neighbors = 5),\n",
    "              \"Support Vector Machine\" : LinearSVR(C=1, max_iter = 1000000)}"
   ]
  },
  {
   "cell_type": "markdown",
   "metadata": {
    "colab_type": "text",
    "id": "FDOdNWwzZjZs"
   },
   "source": [
    "<center><h1> Simple Regression Testing </h1></center>"
   ]
  },
  {
   "cell_type": "code",
   "execution_count": 14,
   "metadata": {
    "colab": {},
    "colab_type": "code",
    "id": "fgaCGFOwZjZw"
   },
   "outputs": [],
   "source": [
    "def regressors_percentage_split():\n",
    "    for estimator_name, model in estimators.items():\n",
    "        model.fit(X=X_train, y=y_train)\n",
    "        print(estimator_name + \":\")\n",
    "        print(\"\\tR-squared value for training set: \", r2_score(y_train, model.predict(X_train)))\n",
    "        print(\"\\tR-squared value for testing set: \", r2_score(y_test, model.predict(X_test)))\n",
    "        print(\"\");"
   ]
  },
  {
   "cell_type": "code",
   "execution_count": 15,
   "metadata": {
    "colab": {},
    "colab_type": "code",
    "id": "5FU-g4LKZjZ3",
    "outputId": "24ab8f26-6c86-4b2b-b83b-61a4873e7980"
   },
   "outputs": [
    {
     "name": "stdout",
     "output_type": "stream",
     "text": [
      "Linear Regression:\n",
      "\tR-squared value for training set:  0.4032983281834135\n",
      "\tR-squared value for testing set:  0.4476074135539382\n",
      "\n",
      "Ridge:\n",
      "\tR-squared value for training set:  0.40318953475678954\n",
      "\tR-squared value for testing set:  0.44745951722438304\n",
      "\n",
      "Lasso:\n",
      "\tR-squared value for training set:  0.3017374732669593\n",
      "\tR-squared value for testing set:  0.322994310176522\n",
      "\n",
      "k-Nearest Neighbor:\n",
      "\tR-squared value for training set:  0.5218446160519321\n",
      "\tR-squared value for testing set:  0.17409317888347886\n",
      "\n",
      "Support Vector Machine:\n",
      "\tR-squared value for training set:  -0.7148122110003963\n",
      "\tR-squared value for testing set:  -0.653544506904441\n",
      "\n"
     ]
    },
    {
     "name": "stderr",
     "output_type": "stream",
     "text": [
      "/Users/estheranemeje/Desktop/anaconda3/lib/python3.7/site-packages/sklearn/svm/base.py:929: ConvergenceWarning: Liblinear failed to converge, increase the number of iterations.\n",
      "  \"the number of iterations.\", ConvergenceWarning)\n"
     ]
    }
   ],
   "source": [
    "regressors_percentage_split()"
   ]
  },
  {
   "cell_type": "markdown",
   "metadata": {
    "colab_type": "text",
    "id": "pIse0qXUZjaC"
   },
   "source": [
    "<center><h1> Preprocessed Regression Testing </h1></center>"
   ]
  },
  {
   "cell_type": "code",
   "execution_count": 16,
   "metadata": {
    "colab": {},
    "colab_type": "code",
    "id": "TMf_XJsiZjaF"
   },
   "outputs": [],
   "source": [
    "def preprocessed_regression():\n",
    "    scaler = MinMaxScaler()\n",
    "    \n",
    "    X_train_scaled = scaler.fit_transform(X_train)\n",
    "    X_test_scaled = scaler.transform(X_test)\n",
    "    for estimator_name, model in estimators.items():\n",
    "        \n",
    "        model.fit(X=X_train_scaled, y=y_train)\n",
    "        print(estimator_name + \":\")\n",
    "        print(\"\\tR-squared value for training set: \", r2_score(y_train, model.predict(X_train_scaled)))\n",
    "        print(\"\\tR-squared value for testing set: \", r2_score(y_test, model.predict(X_test_scaled)))\n",
    "        print(\"\");\n",
    "    return (X_train_scaled, X_test_scaled)"
   ]
  },
  {
   "cell_type": "code",
   "execution_count": 17,
   "metadata": {
    "colab": {},
    "colab_type": "code",
    "id": "1xPerY3lZjaK",
    "outputId": "3029f49e-54d6-4dd0-d53f-1b240de7aa86"
   },
   "outputs": [
    {
     "name": "stdout",
     "output_type": "stream",
     "text": [
      "Linear Regression:\n",
      "\tR-squared value for training set:  0.4032983281834136\n",
      "\tR-squared value for testing set:  0.4476074135537863\n",
      "\n",
      "Ridge:\n",
      "\tR-squared value for training set:  0.4031664072037111\n",
      "\tR-squared value for testing set:  0.4482070265540785\n",
      "\n",
      "Lasso:\n",
      "\tR-squared value for training set:  0.30387367807841004\n",
      "\tR-squared value for testing set:  0.3363385208874664\n",
      "\n",
      "k-Nearest Neighbor:\n",
      "\tR-squared value for training set:  0.6781297748525699\n",
      "\tR-squared value for testing set:  0.48202655173194275\n",
      "\n",
      "Support Vector Machine:\n",
      "\tR-squared value for training set:  0.37359654925469676\n",
      "\tR-squared value for testing set:  0.4332253920292193\n",
      "\n"
     ]
    }
   ],
   "source": [
    "X_train_scaled, X_test_scaled = preprocessed_regression()"
   ]
  },
  {
   "cell_type": "markdown",
   "metadata": {
    "colab_type": "text",
    "id": "qsISLooWZjaQ"
   },
   "source": [
    "<center><h1> Feature Selected Regression Testing </h1></center>\n",
    "\n",
    "---\n",
    "\n"
   ]
  },
  {
   "cell_type": "code",
   "execution_count": 18,
   "metadata": {
    "colab": {},
    "colab_type": "code",
    "id": "auq_mv-WZjaR"
   },
   "outputs": [],
   "source": [
    "def RFE_feature_selection():\n",
    "    select = RFE(DecisionTreeRegressor(random_state = 3000), n_features_to_select = 5)\n",
    "    select.fit(X_train_scaled, y_train)\n",
    "    \n",
    "    X_train_selected = select.transform(X_train_scaled)\n",
    "    X_test_selected = select.transform(X_test_scaled)\n",
    "    \n",
    "    model = KNeighborsRegressor(n_neighbors = 5).fit(X=X_train_selected, y = y_train)\n",
    "    features_mask = select.get_support()\n",
    "    count = 0\n",
    "    print(\"Selected features after RFE:\")\n",
    "    for feature_index in features_mask:\n",
    "        if (feature_index):\n",
    "            print(\"\\t\" + features.columns[count])\n",
    "        count += 1\n",
    "    print(\"kNN Regression performance with selected features:\")\n",
    "    print(\"\\tR-squared value for training set: \", r2_score(y_train, model.predict(X_train_selected)))\n",
    "    print(\"\\tR-squared value for testing set: \", r2_score(y_test, model.predict(X_test_selected)))\n",
    "    return (X_train_selected, X_test_selected)"
   ]
  },
  {
   "cell_type": "code",
   "execution_count": 19,
   "metadata": {
    "colab": {},
    "colab_type": "code",
    "id": "eABX-wL5ZjaY",
    "outputId": "1b1a894c-599d-4375-9098-7bed2504ca86"
   },
   "outputs": [
    {
     "name": "stdout",
     "output_type": "stream",
     "text": [
      "Selected features after RFE:\n",
      "\tAcousticness\n",
      "\tDanceability\n",
      "\tSpeechiness\n",
      "\tValence\n",
      "\tDuration\n",
      "kNN Regression performance with selected features:\n",
      "\tR-squared value for training set:  0.6793504491664453\n",
      "\tR-squared value for testing set:  0.5333832959609355\n"
     ]
    }
   ],
   "source": [
    "X_train_selected, X_test_selected = RFE_feature_selection()"
   ]
  },
  {
   "cell_type": "markdown",
   "metadata": {
    "colab_type": "text",
    "id": "U77SA1ygZjag"
   },
   "source": [
    "<center><h1> Grid Search Regression Testing </h1></center>"
   ]
  },
  {
   "cell_type": "code",
   "execution_count": 20,
   "metadata": {
    "colab": {},
    "colab_type": "code",
    "id": "bJbfFX_fZjah"
   },
   "outputs": [],
   "source": [
    "param_grid = {\"n_neighbors\":[1, 5, 10], \"metric\": [\"euclidean\", \"manhattan\", \"minkowski\"]}"
   ]
  },
  {
   "cell_type": "code",
   "execution_count": 21,
   "metadata": {
    "colab": {},
    "colab_type": "code",
    "id": "kr6kHpN6Zjam"
   },
   "outputs": [],
   "source": [
    "def grid_search_kNN():\n",
    "    grid_search = GridSearchCV(KNeighborsRegressor(), param_grid, cv = 5)\n",
    "    grid_search.fit(X = X_train_selected, y = y_train)\n",
    "    \n",
    "    print(\"Best parameters: \", grid_search.best_params_)\n",
    "    print(\"Training set score with best parameters: \", grid_search.score(X_train_selected, y_train))\n",
    "    print(\"Test set score with best parameters: \", grid_search.score(X_test_selected, y_test))"
   ]
  },
  {
   "cell_type": "code",
   "execution_count": 22,
   "metadata": {
    "colab": {},
    "colab_type": "code",
    "id": "V8Fxyg1bZjas",
    "outputId": "01d3e636-36bc-4898-995e-5b406c9f1f3e"
   },
   "outputs": [
    {
     "name": "stdout",
     "output_type": "stream",
     "text": [
      "Best parameters:  {'metric': 'manhattan', 'n_neighbors': 5}\n",
      "Training set score with best parameters:  0.6905581327004229\n",
      "Test set score with best parameters:  0.5318469049500265\n"
     ]
    }
   ],
   "source": [
    "grid_search_kNN()"
   ]
  }
 ],
 "metadata": {
  "colab": {
   "collapsed_sections": [],
   "name": "Final_Report.ipynb",
   "provenance": []
  },
  "kernelspec": {
   "display_name": "Python 3",
   "language": "python",
   "name": "python3"
  },
  "language_info": {
   "codemirror_mode": {
    "name": "ipython",
    "version": 3
   },
   "file_extension": ".py",
   "mimetype": "text/x-python",
   "name": "python",
   "nbconvert_exporter": "python",
   "pygments_lexer": "ipython3",
   "version": "3.7.4"
  }
 },
 "nbformat": 4,
 "nbformat_minor": 1
}
